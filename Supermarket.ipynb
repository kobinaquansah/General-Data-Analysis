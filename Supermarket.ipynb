{
 "cells": [
  {
   "cell_type": "code",
   "execution_count": 1,
   "metadata": {},
   "outputs": [],
   "source": [
    "import pandas as pd\n",
    "import numpy as np\n",
    "import matplotlib.pyplot as plt\n",
    "import datetime as dt"
   ]
  },
  {
   "cell_type": "code",
   "execution_count": 2,
   "metadata": {},
   "outputs": [],
   "source": [
    "df=pd.read_csv(\"supermarket_sales - Sheet1.csv\")\n",
    "df.head();"
   ]
  },
  {
   "cell_type": "code",
   "execution_count": 3,
   "metadata": {},
   "outputs": [],
   "source": [
    "df[\"Date\"]=df[\"Date\"].map(lambda x: dt.datetime.strptime(x,(\"%m/%d/%Y\")))\n",
    "df[\"Time\"]=df[\"Time\"].map(lambda x: dt.datetime.strptime(x,(\"%H:%M\")))\n",
    "df[\"datetime\"]=df[\"Date\"].map(lambda x: str(x))\n",
    "df[\"time\"]=df[\"Time\"].map(lambda x: str(x))\n",
    "for i in range (0,1000):\n",
    "    df.loc[i,\"datetime\"]=df.loc[i,\"datetime\"].replace(\"00:00:00\", str(df.loc[i,\"time\"])[-8:])\n",
    "df=df.drop(columns=[\"Date\",\"Time\"])\n",
    "df[\"hour\"]=df[\"datetime\"].map(lambda x: str(x)[-8:-6])"
   ]
  },
  {
   "cell_type": "code",
   "execution_count": 4,
   "metadata": {},
   "outputs": [],
   "source": [
    "for i in range(0,1000):\n",
    "    df.loc[i,\"datetime\"]=dt.datetime.strptime(df.loc[i,\"datetime\"], (\"%Y-%m-%d %H:%M:%S\"))"
   ]
  },
  {
   "cell_type": "code",
   "execution_count": 5,
   "metadata": {},
   "outputs": [],
   "source": [
    "df=df.sort_values(\"datetime\")"
   ]
  },
  {
   "cell_type": "code",
   "execution_count": 6,
   "metadata": {},
   "outputs": [],
   "source": [
    "df.reset_index(inplace=True)"
   ]
  },
  {
   "cell_type": "code",
   "execution_count": 7,
   "metadata": {},
   "outputs": [],
   "source": [
    "df=df.drop(columns=\"index\")"
   ]
  },
  {
   "cell_type": "code",
   "execution_count": 8,
   "metadata": {},
   "outputs": [],
   "source": [
    "df.columns=df.columns.str.replace(' ','_')"
   ]
  },
  {
   "cell_type": "code",
   "execution_count": 9,
   "metadata": {},
   "outputs": [
    {
     "name": "stdout",
     "output_type": "stream",
     "text": [
      "dimensions are(1000, 18)\n"
     ]
    }
   ],
   "source": [
    "ncol=df.shape[1]\n",
    "print('dimensions are' + str(df.shape))"
   ]
  },
  {
   "cell_type": "code",
   "execution_count": 10,
   "metadata": {
    "scrolled": true
   },
   "outputs": [],
   "source": [
    "def uniquevaluefinder(frame, ncol):    \n",
    "    global unique_value_counts_list\n",
    "    unique_value_counts_list=[None]*(ncol)\n",
    "    for i in range (0,(ncol)):\n",
    "        unique_value_counts_list[i]=len(frame.iloc[:,i].value_counts())\n",
    "    print(unique_value_counts_list)"
   ]
  },
  {
   "cell_type": "code",
   "execution_count": 11,
   "metadata": {},
   "outputs": [
    {
     "name": "stdout",
     "output_type": "stream",
     "text": [
      "[1000, 3, 3, 2, 2, 6, 943, 10, 990, 990, 3, 990, 1, 990, 61, 994, 506, 11]\n"
     ]
    }
   ],
   "source": [
    "uniquevaluefinder(df,ncol);"
   ]
  },
  {
   "cell_type": "code",
   "execution_count": 12,
   "metadata": {},
   "outputs": [
    {
     "data": {
      "text/plain": [
       "[1, 2, 3, 4, 5, 7, 10, 12, 17]"
      ]
     },
     "execution_count": 12,
     "metadata": {},
     "output_type": "execute_result"
    }
   ],
   "source": [
    "condition=np.array(unique_value_counts_list)<=20\n",
    "dictionary_map_mediate=list(np.where(condition==True))\n",
    "dictionary_map=list(dictionary_map_mediate[0])\n",
    "dictionary_map"
   ]
  },
  {
   "cell_type": "code",
   "execution_count": 13,
   "metadata": {
    "scrolled": true
   },
   "outputs": [],
   "source": [
    "def dictmaker(data, column):\n",
    "    name=data.columns[column]\n",
    "    series=data.iloc[:,column].value_counts().keys()\n",
    "    global temp_series\n",
    "    temp_series=pd.Series(series).to_dict()\n",
    "    exec (name +'dict =temp_series', globals())\n",
    "    print(name)"
   ]
  },
  {
   "cell_type": "code",
   "execution_count": 14,
   "metadata": {},
   "outputs": [
    {
     "name": "stdout",
     "output_type": "stream",
     "text": [
      "Branch\n",
      "City\n",
      "Customer_type\n",
      "Gender\n",
      "Product_line\n",
      "Quantity\n",
      "Payment\n",
      "gross_margin_percentage\n",
      "hour\n"
     ]
    }
   ],
   "source": [
    "def dictmakermeta(data, mapped_positions):\n",
    "    for i in range (0,len(mapped_positions)):\n",
    "        dictmaker(data=data, column=mapped_positions[i]);\n",
    "dictmakermeta(data=df, mapped_positions=dictionary_map);"
   ]
  },
  {
   "cell_type": "code",
   "execution_count": 15,
   "metadata": {},
   "outputs": [],
   "source": [
    "conditions=[[None]*(len(eval(df.columns[dictionary_map[0]] + 'dict')))]\n",
    "for i in range(1,len(dictionary_map)):\n",
    "    len(eval(df.columns[dictionary_map[i]] + 'dict'))\n",
    "    conditions=conditions+[[None]*(len(eval(df.columns[dictionary_map[i]] + 'dict')))]\n",
    "conditions;"
   ]
  },
  {
   "cell_type": "code",
   "execution_count": 16,
   "metadata": {},
   "outputs": [],
   "source": [
    "for i in range (0,len(dictionary_map)):\n",
    "    for j in range (0,(len(conditions[i]))):\n",
    "        conditions[i][j]=str(df.columns[dictionary_map[i]])+'cond'+ str(j) "
   ]
  },
  {
   "cell_type": "code",
   "execution_count": 17,
   "metadata": {},
   "outputs": [],
   "source": [
    "for i in range (0,len(dictionary_map)):\n",
    "    for j in range (0,(len(conditions[i]))):\n",
    "        b=df[df.columns[dictionary_map[i]]]==eval(df.columns[dictionary_map[i]] + 'dict[j]')  \n",
    "        exec(str(conditions[i][j]) + '= b') "
   ]
  },
  {
   "cell_type": "code",
   "execution_count": 18,
   "metadata": {
    "scrolled": true
   },
   "outputs": [
    {
     "data": {
      "text/plain": [
       "['Branchcond0',\n",
       " 'Branchcond1',\n",
       " 'Branchcond2',\n",
       " 'Citycond0',\n",
       " 'Citycond1',\n",
       " 'Citycond2',\n",
       " 'Customer_typecond0',\n",
       " 'Customer_typecond1',\n",
       " 'Gendercond0',\n",
       " 'Gendercond1',\n",
       " 'Product_linecond0',\n",
       " 'Product_linecond1',\n",
       " 'Product_linecond2',\n",
       " 'Product_linecond3',\n",
       " 'Product_linecond4',\n",
       " 'Product_linecond5',\n",
       " 'Quantitycond0',\n",
       " 'Quantitycond1',\n",
       " 'Quantitycond2',\n",
       " 'Quantitycond3',\n",
       " 'Quantitycond4',\n",
       " 'Quantitycond5',\n",
       " 'Quantitycond6',\n",
       " 'Quantitycond7',\n",
       " 'Quantitycond8',\n",
       " 'Quantitycond9',\n",
       " 'Paymentcond0',\n",
       " 'Paymentcond1',\n",
       " 'Paymentcond2',\n",
       " 'gross_margin_percentagecond0',\n",
       " 'hourcond0',\n",
       " 'hourcond1',\n",
       " 'hourcond2',\n",
       " 'hourcond3',\n",
       " 'hourcond4',\n",
       " 'hourcond5',\n",
       " 'hourcond6',\n",
       " 'hourcond7',\n",
       " 'hourcond8',\n",
       " 'hourcond9',\n",
       " 'hourcond10']"
      ]
     },
     "execution_count": 18,
     "metadata": {},
     "output_type": "execute_result"
    }
   ],
   "source": [
    "condition=conditions[0]\n",
    "for i in range (1,len(conditions)):\n",
    "    condition=condition+conditions[i]"
   ]
  },
  {
   "cell_type": "code",
   "execution_count": 19,
   "metadata": {},
   "outputs": [],
   "source": [
    "df[\"visit\"]=1\n",
    "for i in range (0,999):\n",
    "    df.loc[i+1,\"timedelta\"]=df.loc[i+1,\"datetime\"]-df.loc[i,\"datetime\"]"
   ]
  },
  {
   "cell_type": "code",
   "execution_count": 20,
   "metadata": {},
   "outputs": [],
   "source": [
    "df.loc[0,\"timedelta\"]=0\n",
    "df.loc[0,\"timedelta\"]=dt.timedelta(df.loc[0,\"timedelta\"])"
   ]
  },
  {
   "cell_type": "code",
   "execution_count": 21,
   "metadata": {},
   "outputs": [],
   "source": [
    "df[\"timedelta\"]=df[\"timedelta\"].map(lambda x: x.total_seconds())"
   ]
  },
  {
   "cell_type": "code",
   "execution_count": 22,
   "metadata": {},
   "outputs": [],
   "source": [
    "df[\"cumsum\"]=df[\"timedelta\"].cumsum()"
   ]
  },
  {
   "cell_type": "code",
   "execution_count": 23,
   "metadata": {},
   "outputs": [],
   "source": [
    "opening_time=min(list(hourdict.values()))\n",
    "closing_time=max(list(hourdict.values()))"
   ]
  },
  {
   "cell_type": "code",
   "execution_count": 24,
   "metadata": {},
   "outputs": [
    {
     "name": "stdout",
     "output_type": "stream",
     "text": [
      "opening time is 10:00\n",
      "closing time is 20:00\n"
     ]
    }
   ],
   "source": [
    "print('opening time is '+str(opening_time)+ ':00')\n",
    "print('closing time is '+str(closing_time)+ ':00')"
   ]
  },
  {
   "cell_type": "code",
   "execution_count": 25,
   "metadata": {},
   "outputs": [
    {
     "name": "stdout",
     "output_type": "stream",
     "text": [
      "men visit supermarkets 1.27 times as much as women\n"
     ]
    }
   ],
   "source": [
    "def mw_ratio_finder():\n",
    "    global ab1, ab2\n",
    "    ab1=df[eval(condition[9])]\n",
    "    ab2=df[eval(condition[8])]\n",
    "    ab1=ab1[[\"cumsum\",\"visit\"]]\n",
    "    ab2=ab2[[\"cumsum\",\"visit\"]]\n",
    "    ab1.set_index(\"cumsum\", inplace=True)\n",
    "    ab2.set_index(\"cumsum\", inplace=True)\n",
    "    ab1.reset_index(inplace=True);\n",
    "    ab2.reset_index(inplace=True);\n",
    "    shape1=ab1.shape[1]\n",
    "    shape2=ab2.shape[1]\n",
    "    lambdawomen=(ab1[\"visit\"].cumsum()[shape1])/(ab1[\"cumsum\"][shape1])\n",
    "    lambdamen=(ab2[\"visit\"].cumsum()[shape2])/(ab2[\"cumsum\"][shape2])\n",
    "    lambdawomen=lambdawomen*60*60*24\n",
    "    lambdamen=lambdamen*60*60*24\n",
    "    mw_visit_ratio=lambdamen/lambdawomen\n",
    "    print('men visit supermarkets '+ str(round(mw_visit_ratio, 2)) + ' times as much as women')\n",
    "mw_ratio_finder()"
   ]
  },
  {
   "cell_type": "code",
   "execution_count": 26,
   "metadata": {},
   "outputs": [
    {
     "name": "stdout",
     "output_type": "stream",
     "text": [
      "women spend 0.8 times as much as men\n"
     ]
    }
   ],
   "source": [
    "def wm_spend_ratio():\n",
    "    global ab1, ab2\n",
    "    ab1=df[eval(condition[9])]\n",
    "    ab2=df[eval(condition[8])]\n",
    "    ab1.reset_index(inplace=True)\n",
    "    ab2.reset_index(inplace=True)\n",
    "    shape1=ab1.shape[1]\n",
    "    shape2=ab2.shape[1]\n",
    "    ab1.drop(columns=\"index\");\n",
    "    ab2.drop(columns=\"index\");\n",
    "    women_spend_total=ab1[\"Total\"].sum()\n",
    "    men_spend_total=ab2[\"Total\"].sum()\n",
    "    women_spend=women_spend_total/(ab1[\"cumsum\"][shape1])\n",
    "    men_spend=men_spend_total/(ab2[\"cumsum\"][shape2])\n",
    "    print('women spend ' + str(round((women_spend/men_spend),2)) + ' times as much as men')\n",
    "wm_spend_ratio()"
   ]
  },
  {
   "cell_type": "code",
   "execution_count": 27,
   "metadata": {},
   "outputs": [
    {
     "data": {
      "image/png": "[encoded data removed]",
      "text/plain": [
       "<Figure size 432x288 with 1 Axes>"
      ]
     },
     "metadata": {
      "needs_background": "light"
     },
     "output_type": "display_data"
    }
   ],
   "source": [
    "plt.hist(ab1[\"Total\"], bins=100, density='True');\n",
    "plt.hist(ab2[\"Total\"], bins=100, density='True');"
   ]
  },
  {
   "cell_type": "code",
   "execution_count": 160,
   "metadata": {},
   "outputs": [
    {
     "name": "stdout",
     "output_type": "stream",
     "text": [
      "women spend on average 310.79 yuen per visit\n",
      "men spend on average 335.10 yuen per visit\n"
     ]
    }
   ],
   "source": [
    "central_tendencywomen=ab1[\"Total\"].sum()/ab1[\"visit\"].sum()\n",
    "central_tendencymen=ab2[\"Total\"].sum()/ab2[\"visit\"].sum()\n",
    "print('women spend on average ' + str(\"%.2f\" % round(central_tendencywomen,2)) + ' yuen per visit')\n",
    "print('men spend on average ' + str(\"%.2f\" % round(central_tendencymen,2)) + ' yuen per visit')\n"
   ]
  },
  {
   "cell_type": "code",
   "execution_count": null,
   "metadata": {},
   "outputs": [],
   "source": [
    "bin_array=list(hourdict.values())\n",
    "for i in range (0,(len(bin_array))):\n",
    "    bin_array[i]=int(binarray[i])\n",
    "bin_array.sort()"
   ]
  },
  {
   "cell_type": "code",
   "execution_count": 130,
   "metadata": {},
   "outputs": [
    {
     "data": {
      "image/png": "[encoded data removed]",
      "text/plain": [
       "<Figure size 432x288 with 1 Axes>"
      ]
     },
     "metadata": {
      "needs_background": "light"
     },
     "output_type": "display_data"
    }
   ],
   "source": [
    "plt.hist(ab1[\"hour\"], bins=11, density='True', alpha=0.5, lw=3);\n",
    "plt.hist(ab2[\"hour\"], bins=11, density='True', alpha=0.5, lw=3);"
   ]
  },
  {
   "cell_type": "markdown",
   "metadata": {},
   "source": [
    "Women Prefer to shop earlier in the day relative to men"
   ]
  }
 ],
 "metadata": {
  "kernelspec": {
   "display_name": "Python 3",
   "language": "python",
   "name": "python3"
  },
  "language_info": {
   "codemirror_mode": {
    "name": "ipython",
    "version": 3
   },
   "file_extension": ".py",
   "mimetype": "text/x-python",
   "name": "python",
   "nbconvert_exporter": "python",
   "pygments_lexer": "ipython3",
   "version": "3.7.4"
  }
 },
 "nbformat": 4,
 "nbformat_minor": 2
}
